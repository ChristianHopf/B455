{
  "nbformat": 4,
  "nbformat_minor": 0,
  "metadata": {
    "colab": {
      "name": "B455_project2.ipynb",
      "provenance": [],
      "collapsed_sections": [],
      "authorship_tag": "ABX9TyMYmAHjUHe24EJMp1SSm8Dt",
      "include_colab_link": true
    },
    "kernelspec": {
      "name": "python3",
      "display_name": "Python 3"
    },
    "language_info": {
      "name": "python"
    }
  },
  "cells": [
    {
      "cell_type": "markdown",
      "metadata": {
        "id": "view-in-github",
        "colab_type": "text"
      },
      "source": [
        "<a href=\"https://colab.research.google.com/github/ChristianHopf/B455/blob/main/B455_project2.ipynb\" target=\"_parent\"><img src=\"https://colab.research.google.com/assets/colab-badge.svg\" alt=\"Open In Colab\"/></a>"
      ]
    },
    {
      "cell_type": "markdown",
      "source": [
        "In this implementation, I used TensorFlow's Keras API.\n",
        "To determine the hyper-parameters, I first studied the Keras documentation.\n",
        "\n",
        "For the baseline model, I decided to use:\n",
        "- 4 hidden layers\n",
        "- 128 neurons per layer\n",
        "- 10 output neurons (for the 10 possible classes)\n",
        "- ReLU activation\n",
        "- Adam optimizer\n",
        "- Categorical Cross Entropy loss function"
      ],
      "metadata": {
        "id": "yi-EFJyMW9Q9"
      }
    },
    {
      "cell_type": "code",
      "execution_count": null,
      "metadata": {
        "id": "-ZQINADsU6MY"
      },
      "outputs": [],
      "source": [
        "import tensorflow as tf\n",
        "import numpy as np\n",
        "import matplotlib.pyplot as plt"
      ]
    },
    {
      "cell_type": "markdown",
      "source": [
        "Training and testing data\n",
        "\n",
        "x_train: training data without labels\n",
        "\n",
        "y_train: training data labels\n",
        "\n",
        "x_test: testing data without labels\n",
        "\n",
        "y_test: testing data with labels"
      ],
      "metadata": {
        "id": "JJZ7zOYVXnHk"
      }
    },
    {
      "cell_type": "code",
      "source": [
        "(x_train, y_train), (x_test, y_test) = tf.keras.datasets.cifar10.load_data()"
      ],
      "metadata": {
        "id": "XpaSxD41XxgA"
      },
      "execution_count": 43,
      "outputs": []
    },
    {
      "cell_type": "markdown",
      "source": [
        "Before building the model, I check the shapes of the training and testing data. I also scale down pixel values of x_train and x_test from 0 to 255 to be between 0 and 1"
      ],
      "metadata": {
        "id": "QolMk841X_CF"
      }
    },
    {
      "cell_type": "code",
      "source": [
        "print(\"x_train shape: \", np.shape(x_train))\n",
        "print(\"y_train shape: \", np.shape(y_train))\n",
        "print(\"x_test shape: \", np.shape(x_test))\n",
        "print(\"y_test shape: \", np.shape(y_test))\n",
        "\n",
        "x_train = x_train / 255.0\n",
        "x_test = x_test / 255.0"
      ],
      "metadata": {
        "colab": {
          "base_uri": "https://localhost:8080/"
        },
        "id": "aE4l7oGpYD17",
        "outputId": "95824c18-acd1-4262-d57c-a724658e3542"
      },
      "execution_count": 44,
      "outputs": [
        {
          "output_type": "stream",
          "name": "stdout",
          "text": [
            "x_train shape:  (50000, 32, 32, 3)\n",
            "y_train shape:  (50000, 1)\n",
            "x_test shape:  (10000, 32, 32, 3)\n",
            "y_test shape:  (10000, 1)\n"
          ]
        }
      ]
    },
    {
      "cell_type": "markdown",
      "source": [
        "Baseline model: TensorFlow Sequential model with 4 hidden layers, using ReLU activation.\n",
        "\n",
        "Compiled with Adam optimizer (default parameters), because it is efficient when training models on large datsets, and the SparseCategoricalCrossentropy loss function, because there are more than 2 output labels. I first tried to use CategoricalCrossentropy, but when training the model, I encountered a ValueError: Shapes (None, 1) and (None, 10) are incompatible. On reading the documentation for CategoricalCrossentropy loss, I found it expected the labels to be in one-hot representation. I changed my loss function to the SparseCategoricalCrossentropy function, which expects integer labels, which solved the issue."
      ],
      "metadata": {
        "id": "DrUwvnAwY6qK"
      }
    },
    {
      "cell_type": "code",
      "source": [
        "model = tf.keras.models.Sequential([\n",
        "  tf.keras.layers.Flatten(input_shape=(32,32,3)),\n",
        "  tf.keras.layers.Dense(128, activation='relu'),\n",
        "  tf.keras.layers.Dense(128, activation='relu'),\n",
        "  tf.keras.layers.Dense(128, activation='relu'),\n",
        "  tf.keras.layers.Dense(128, activation='relu'),\n",
        "  tf.keras.layers.Dense(10)\n",
        "])\n",
        "\n",
        "model.compile(optimizer='adam',\n",
        "              loss=tf.keras.losses.SparseCategoricalCrossentropy(from_logits=True),\n",
        "              metrics=['accuracy'])"
      ],
      "metadata": {
        "id": "87n4FE19ZKTI"
      },
      "execution_count": 45,
      "outputs": []
    },
    {
      "cell_type": "markdown",
      "source": [
        "I fit the model on the training data with 10 epochs."
      ],
      "metadata": {
        "id": "H9DSoh1hc2lG"
      }
    },
    {
      "cell_type": "code",
      "source": [
        "model.fit(x_train, y_train, epochs = 10)"
      ],
      "metadata": {
        "colab": {
          "base_uri": "https://localhost:8080/"
        },
        "id": "v2tDQ-rxc-dP",
        "outputId": "4f454013-3cd1-489a-98c2-f2ffb14d81e9"
      },
      "execution_count": 47,
      "outputs": [
        {
          "output_type": "stream",
          "name": "stdout",
          "text": [
            "Epoch 1/10\n",
            "1563/1563 [==============================] - 8s 5ms/step - loss: 1.8768 - accuracy: 0.3112\n",
            "Epoch 2/10\n",
            "1563/1563 [==============================] - 8s 5ms/step - loss: 1.7101 - accuracy: 0.3831\n",
            "Epoch 3/10\n",
            "1563/1563 [==============================] - 8s 5ms/step - loss: 1.6515 - accuracy: 0.4046\n",
            "Epoch 4/10\n",
            "1563/1563 [==============================] - 8s 5ms/step - loss: 1.6060 - accuracy: 0.4198\n",
            "Epoch 5/10\n",
            "1563/1563 [==============================] - 8s 5ms/step - loss: 1.5613 - accuracy: 0.4392\n",
            "Epoch 6/10\n",
            "1563/1563 [==============================] - 8s 5ms/step - loss: 1.5315 - accuracy: 0.4473\n",
            "Epoch 7/10\n",
            "1563/1563 [==============================] - 8s 5ms/step - loss: 1.5009 - accuracy: 0.4594\n",
            "Epoch 8/10\n",
            "1563/1563 [==============================] - 8s 5ms/step - loss: 1.4752 - accuracy: 0.4682\n",
            "Epoch 9/10\n",
            "1563/1563 [==============================] - 8s 5ms/step - loss: 1.4590 - accuracy: 0.4727\n",
            "Epoch 10/10\n",
            "1563/1563 [==============================] - 8s 5ms/step - loss: 1.4387 - accuracy: 0.4789\n"
          ]
        },
        {
          "output_type": "execute_result",
          "data": {
            "text/plain": [
              "<keras.callbacks.History at 0x7faecf5bc650>"
            ]
          },
          "metadata": {},
          "execution_count": 47
        }
      ]
    },
    {
      "cell_type": "markdown",
      "source": [
        "Evaluate the model with the test data:"
      ],
      "metadata": {
        "id": "EX67YxSyf7mo"
      }
    },
    {
      "cell_type": "code",
      "source": [
        "test_loss, test_acc = model.evaluate(x_test, y_test, verbose = 2)\n",
        "print(\"Test loss: \", test_loss)\n",
        "print(\"Test accuracy: \", test_acc)"
      ],
      "metadata": {
        "colab": {
          "base_uri": "https://localhost:8080/"
        },
        "id": "GGJrdEYhf-EM",
        "outputId": "ac896ab2-13ed-4c84-e06b-10b686ca4245"
      },
      "execution_count": 48,
      "outputs": [
        {
          "output_type": "stream",
          "name": "stdout",
          "text": [
            "313/313 - 1s - loss: 1.4872 - accuracy: 0.4688 - 555ms/epoch - 2ms/step\n",
            "Test loss:  1.487177848815918\n",
            "Test accuracy:  0.46880000829696655\n"
          ]
        }
      ]
    },
    {
      "cell_type": "markdown",
      "source": [
        "Baseline model loss and accuracy on test set:\n",
        "- Loss 1.487\n",
        "- Accuracy 0.469"
      ],
      "metadata": {
        "id": "g4dPBBIumUB-"
      }
    },
    {
      "cell_type": "markdown",
      "source": [
        "Fine-tuned model 1 hyperparameters:\n",
        "- Hidden layers: 5\n",
        "- Neurons per hidden layer: 128\n",
        "- Activation: ReLU\n",
        "- Optimizer: Adam\n",
        "- Loss function: SpareCategoricalCrossentropy\n",
        "- Batch size: 32\n",
        "- Epochs: 15"
      ],
      "metadata": {
        "id": "x6alqOBGmlBm"
      }
    },
    {
      "cell_type": "code",
      "source": [
        "finetuned_model1 = tf.keras.models.Sequential([\n",
        "  tf.keras.layers.Flatten(input_shape=(32,32,3)),\n",
        "  tf.keras.layers.Dense(128, activation='relu'),\n",
        "  tf.keras.layers.Dense(128, activation='relu'),\n",
        "  tf.keras.layers.Dense(128, activation='relu'),\n",
        "  tf.keras.layers.Dense(128, activation='relu'),\n",
        "  tf.keras.layers.Dense(128, activation='relu'),\n",
        "  tf.keras.layers.Dense(10)\n",
        "])\n",
        "\n",
        "finetuned_model1.compile(optimizer='adam',\n",
        "              loss=tf.keras.losses.SparseCategoricalCrossentropy(from_logits=True),\n",
        "              metrics=['accuracy'])\n",
        "finetuned_model1.fit(x_train, y_train, batch_size = 32, epochs = 15)"
      ],
      "metadata": {
        "colab": {
          "base_uri": "https://localhost:8080/"
        },
        "id": "RHF16fldm4T_",
        "outputId": "ac994677-292e-42bc-b5b3-0871eb15fb45"
      },
      "execution_count": 58,
      "outputs": [
        {
          "output_type": "stream",
          "name": "stdout",
          "text": [
            "Epoch 1/15\n",
            "1563/1563 [==============================] - 9s 5ms/step - loss: 1.8840 - accuracy: 0.3107\n",
            "Epoch 2/15\n",
            "1563/1563 [==============================] - 8s 5ms/step - loss: 1.7167 - accuracy: 0.3810\n",
            "Epoch 3/15\n",
            "1563/1563 [==============================] - 8s 5ms/step - loss: 1.6484 - accuracy: 0.4060\n",
            "Epoch 4/15\n",
            "1563/1563 [==============================] - 8s 5ms/step - loss: 1.5941 - accuracy: 0.4232\n",
            "Epoch 5/15\n",
            "1563/1563 [==============================] - 8s 5ms/step - loss: 1.5501 - accuracy: 0.4408\n",
            "Epoch 6/15\n",
            "1563/1563 [==============================] - 8s 5ms/step - loss: 1.5159 - accuracy: 0.4561\n",
            "Epoch 7/15\n",
            "1563/1563 [==============================] - 8s 5ms/step - loss: 1.4869 - accuracy: 0.4673\n",
            "Epoch 8/15\n",
            "1563/1563 [==============================] - 8s 5ms/step - loss: 1.4652 - accuracy: 0.4738\n",
            "Epoch 9/15\n",
            "1563/1563 [==============================] - 8s 5ms/step - loss: 1.4449 - accuracy: 0.4811\n",
            "Epoch 10/15\n",
            "1563/1563 [==============================] - 8s 5ms/step - loss: 1.4318 - accuracy: 0.4851\n",
            "Epoch 11/15\n",
            "1563/1563 [==============================] - 8s 5ms/step - loss: 1.4038 - accuracy: 0.4959\n",
            "Epoch 12/15\n",
            "1563/1563 [==============================] - 8s 5ms/step - loss: 1.3857 - accuracy: 0.5003\n",
            "Epoch 13/15\n",
            "1563/1563 [==============================] - 8s 5ms/step - loss: 1.3709 - accuracy: 0.5063\n",
            "Epoch 14/15\n",
            "1563/1563 [==============================] - 8s 5ms/step - loss: 1.3495 - accuracy: 0.5130\n",
            "Epoch 15/15\n",
            "1563/1563 [==============================] - 8s 5ms/step - loss: 1.3407 - accuracy: 0.5174\n"
          ]
        },
        {
          "output_type": "execute_result",
          "data": {
            "text/plain": [
              "<keras.callbacks.History at 0x7faecf1f2390>"
            ]
          },
          "metadata": {},
          "execution_count": 58
        }
      ]
    },
    {
      "cell_type": "code",
      "source": [
        "ftmodel1_test_loss, ftmodel1_test_acc = finetuned_model1.evaluate(x_test, y_test, verbose = 2)"
      ],
      "metadata": {
        "colab": {
          "base_uri": "https://localhost:8080/"
        },
        "id": "rzGSfUSwnaFI",
        "outputId": "1cb700f5-857b-4f10-ff5d-c35e52db4400"
      },
      "execution_count": 59,
      "outputs": [
        {
          "output_type": "stream",
          "name": "stdout",
          "text": [
            "313/313 - 1s - loss: 1.4555 - accuracy: 0.4821 - 675ms/epoch - 2ms/step\n"
          ]
        }
      ]
    },
    {
      "cell_type": "markdown",
      "source": [
        "Fine-tuned model 1 loss and accuracy on test set:\n",
        "- Loss 1.4555\n",
        "- Accuracy 0.4821"
      ],
      "metadata": {
        "id": "forG03gyp6Hv"
      }
    }
  ]
}